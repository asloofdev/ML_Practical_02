{
 "cells": [
  {
   "cell_type": "code",
   "execution_count": 1,
   "id": "daffb6b4",
   "metadata": {},
   "outputs": [],
   "source": [
    "import numpy as np\n",
    "import sys"
   ]
  },
  {
   "cell_type": "code",
   "execution_count": 7,
   "id": "a3ee1bec",
   "metadata": {},
   "outputs": [
    {
     "name": "stdout",
     "output_type": "stream",
     "text": [
      "From list :[2000, 14, 56, 3452, 567]\n",
      "From array :[2000   14   56 3452  567]\n",
      "Shape : (5,)\n"
     ]
    }
   ],
   "source": [
    "price_list = [2000,14,56,3452,567]\n",
    "price_array = np.array(price_list)\n",
    "\n",
    "print(f\"From list :{price_list}\")\n",
    "print(f\"From array :{price_array}\")\n",
    "print(f\"Shape : {price_array.shape}\")"
   ]
  },
  {
   "cell_type": "code",
   "execution_count": 10,
   "id": "99dc1145",
   "metadata": {},
   "outputs": [
    {
     "name": "stdout",
     "output_type": "stream",
     "text": [
      "From list : [[2000, 14, 56, 3452, 567]]\n",
      "From array : [[2000   14   56 3452  567]]\n",
      "Shape : (1, 5)\n"
     ]
    }
   ],
   "source": [
    "price_list = [[2000,14,56,3452,567]]\n",
    "price_array = np.array(price_list)\n",
    "print(f\"From list : {price_list}\")\n",
    "print(f\"From array : {price_array}\")\n",
    "print(f\"Shape : {price_array.shape}\")"
   ]
  },
  {
   "cell_type": "code",
   "execution_count": 11,
   "id": "9ec0cdd2",
   "metadata": {},
   "outputs": [
    {
     "name": "stdout",
     "output_type": "stream",
     "text": [
      "From list : [[2000], [14], [56], [3452], [567]]\n",
      "From array : [[2000]\n",
      " [  14]\n",
      " [  56]\n",
      " [3452]\n",
      " [ 567]]\n",
      "Shape : (5, 1)\n"
     ]
    }
   ],
   "source": [
    "price_list = [[2000],[14],[56],[3452],[567]]\n",
    "price_array = np.array(price_list)\n",
    "print(f\"From list : {price_list}\")\n",
    "print(f\"From array : {price_array}\")\n",
    "print(f\"Shape : {price_array.shape}\")"
   ]
  },
  {
   "cell_type": "markdown",
   "id": "6abffcef",
   "metadata": {},
   "source": [
    "##### Need to under stand the multidimension array \n"
   ]
  },
  {
   "cell_type": "markdown",
   "id": "95ecf9e9",
   "metadata": {},
   "source": [
    "### 2. Python List vs Numpy Array"
   ]
  },
  {
   "cell_type": "markdown",
   "id": "cf97c3ed",
   "metadata": {},
   "source": [
    "#### 2.1 Memory"
   ]
  },
  {
   "cell_type": "code",
   "execution_count": null,
   "id": "0a15fc9b",
   "metadata": {},
   "outputs": [
    {
     "name": "stdout",
     "output_type": "stream",
     "text": [
      "range(0, 20)\n"
     ]
    }
   ],
   "source": [
    "size =  10000\n",
    "python_list = list(range(size))\n",
    "numpy_array = np.arange(size)\n",
    "\n",
    "\n"
   ]
  },
  {
   "cell_type": "code",
   "execution_count": null,
   "id": "cb3d5a6f",
   "metadata": {},
   "outputs": [],
   "source": []
  }
 ],
 "metadata": {
  "kernelspec": {
   "display_name": "foml",
   "language": "python",
   "name": "python3"
  },
  "language_info": {
   "codemirror_mode": {
    "name": "ipython",
    "version": 3
   },
   "file_extension": ".py",
   "mimetype": "text/x-python",
   "name": "python",
   "nbconvert_exporter": "python",
   "pygments_lexer": "ipython3",
   "version": "3.11.13"
  }
 },
 "nbformat": 4,
 "nbformat_minor": 5
}
