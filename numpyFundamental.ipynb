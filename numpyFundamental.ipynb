{
 "cells": [
  {
   "cell_type": "code",
   "execution_count": 2,
   "id": "daffb6b4",
   "metadata": {},
   "outputs": [],
   "source": [
    "import numpy as np\n",
    "import sys"
   ]
  },
  {
   "cell_type": "code",
   "execution_count": 7,
   "id": "a3ee1bec",
   "metadata": {},
   "outputs": [
    {
     "name": "stdout",
     "output_type": "stream",
     "text": [
      "From list :[2000, 14, 56, 3452, 567]\n",
      "From array :[2000   14   56 3452  567]\n",
      "Shape : (5,)\n"
     ]
    }
   ],
   "source": [
    "price_list = [2000,14,56,3452,567]\n",
    "price_array = np.array(price_list)\n",
    "\n",
    "print(f\"From list :{price_list}\")\n",
    "print(f\"From array :{price_array}\")\n",
    "print(f\"Shape : {price_array.shape}\")"
   ]
  },
  {
   "cell_type": "code",
   "execution_count": 10,
   "id": "99dc1145",
   "metadata": {},
   "outputs": [
    {
     "name": "stdout",
     "output_type": "stream",
     "text": [
      "From list : [[2000, 14, 56, 3452, 567]]\n",
      "From array : [[2000   14   56 3452  567]]\n",
      "Shape : (1, 5)\n"
     ]
    }
   ],
   "source": [
    "price_list = [[2000,14,56,3452,567]]\n",
    "price_array = np.array(price_list)\n",
    "print(f\"From list : {price_list}\")\n",
    "print(f\"From array : {price_array}\")\n",
    "print(f\"Shape : {price_array.shape}\")"
   ]
  },
  {
   "cell_type": "code",
   "execution_count": 11,
   "id": "9ec0cdd2",
   "metadata": {},
   "outputs": [
    {
     "name": "stdout",
     "output_type": "stream",
     "text": [
      "From list : [[2000], [14], [56], [3452], [567]]\n",
      "From array : [[2000]\n",
      " [  14]\n",
      " [  56]\n",
      " [3452]\n",
      " [ 567]]\n",
      "Shape : (5, 1)\n"
     ]
    }
   ],
   "source": [
    "price_list = [[2000],[14],[56],[3452],[567]]\n",
    "price_array = np.array(price_list)\n",
    "print(f\"From list : {price_list}\")\n",
    "print(f\"From array : {price_array}\")\n",
    "print(f\"Shape : {price_array.shape}\")"
   ]
  },
  {
   "cell_type": "markdown",
   "id": "6abffcef",
   "metadata": {},
   "source": [
    "##### Need to under stand the multidimension array \n"
   ]
  },
  {
   "cell_type": "markdown",
   "id": "95ecf9e9",
   "metadata": {},
   "source": [
    "### 2. Python List vs Numpy Array"
   ]
  },
  {
   "cell_type": "markdown",
   "id": "cf97c3ed",
   "metadata": {},
   "source": [
    "#### 2.1 Memory"
   ]
  },
  {
   "cell_type": "code",
   "execution_count": null,
   "id": "0a15fc9b",
   "metadata": {},
   "outputs": [
    {
     "name": "stdout",
     "output_type": "stream",
     "text": [
      "Python list memory : 360056\n",
      "Numpy array memory : 80112\n",
      "Times 4.4944078290393445\n"
     ]
    }
   ],
   "source": [
    "size =  10000\n",
    "python_list = list(range(size))\n",
    "numpy_array = np.arange(size)\n",
    "\n",
    "list_memory = sys.getsizeof(python_list)+sum(sys.getsizeof(x) for x in python_list)\n",
    "array_memory = sys.getsizeof(numpy_array)\n",
    "\n",
    "print(f\"Python list memory : {list_memory}\")\n",
    "print(f\"Numpy array memory : {array_memory}\")\n",
    "\n",
    "print(f\"Times {list_memory/array_memory}\")\n",
    "\n"
   ]
  },
  {
   "cell_type": "markdown",
   "id": "85e5e835",
   "metadata": {},
   "source": [
    "### 3. Vectorization and Broadcasting"
   ]
  },
  {
   "cell_type": "markdown",
   "id": "49514e08",
   "metadata": {},
   "source": [
    "### 3.1 Vectorization"
   ]
  },
  {
   "cell_type": "code",
   "execution_count": null,
   "id": "217a1112",
   "metadata": {},
   "outputs": [
    {
     "name": "stdout",
     "output_type": "stream",
     "text": [
      "a_list  * 3 : [1, 2, 3, 4, 1, 2, 3, 4, 1, 2, 3, 4]\n",
      "a_array * 2 : [ 3  6  9 12]\n"
     ]
    }
   ],
   "source": [
    "a_list  = [1,2,3,4]\n",
    "a_array = np.array([1,2,3,4])\n",
    "\n",
    "print(f\"a_list  * 3 : {a_list * 3}\")\n",
    "print(f\"a_array * 3 : {a_array * 3}\")"
   ]
  },
  {
   "cell_type": "code",
   "execution_count": 5,
   "id": "54a01874",
   "metadata": {},
   "outputs": [
    {
     "name": "stdout",
     "output_type": "stream",
     "text": [
      "[1 1 1 1 1 1]\n",
      "[1. 1. 1. 1. 1. 1.]\n",
      "[[1.]\n",
      " [1.]\n",
      " [1.]\n",
      " [1.]\n",
      " [1.]\n",
      " [1.]]\n",
      "[[1. 1. 1. 1. 1. 1.]]\n"
     ]
    }
   ],
   "source": [
    "a1 = np.ones((6),dtype=int)\n",
    "\n",
    "a = np.ones(6)\n",
    "\n",
    "b = np.ones((6,1))\n",
    "c = np.ones((1,6))\n",
    "\n",
    "print(a1)\n",
    "\n",
    "print(a)\n",
    "print(b)\n",
    "print(c)"
   ]
  },
  {
   "cell_type": "code",
   "execution_count": null,
   "id": "515192d5",
   "metadata": {},
   "outputs": [],
   "source": []
  }
 ],
 "metadata": {
  "kernelspec": {
   "display_name": "foml",
   "language": "python",
   "name": "python3"
  },
  "language_info": {
   "codemirror_mode": {
    "name": "ipython",
    "version": 3
   },
   "file_extension": ".py",
   "mimetype": "text/x-python",
   "name": "python",
   "nbconvert_exporter": "python",
   "pygments_lexer": "ipython3",
   "version": "3.11.13"
  }
 },
 "nbformat": 4,
 "nbformat_minor": 5
}
